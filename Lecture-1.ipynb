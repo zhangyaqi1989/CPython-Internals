{
 "cells": [
  {
   "cell_type": "markdown",
   "metadata": {},
   "source": [
    "# Lec 1. CPython internals - Interpreter and souce code overview"
   ]
  },
  {
   "cell_type": "markdown",
   "metadata": {},
   "source": [
    "* source code --> python program --> output\n",
    "* CPython, implement python language in C language. python program is a binary executable.\n",
    "* Python is an interpreted language ?\n",
    "  - source code --compiler--> bytecode --interpreter--> output\n",
    "  - Interpreter actually interpret bytecode\n",
    "  - Focus on interpret stage\n",
    "  - Dynamic feature comes from the interpret stage"
   ]
  },
  {
   "cell_type": "markdown",
   "metadata": {},
   "source": [
    "Python source code\n",
    "* Include\n",
    "* Objects\n",
    "* Python: Python runtime enviornment\n",
    "* Lib: standard library\n",
    "* main interpreter loop: Python/ceval.c"
   ]
  },
  {
   "cell_type": "code",
   "execution_count": null,
   "metadata": {},
   "outputs": [],
   "source": []
  }
 ],
 "metadata": {
  "kernelspec": {
   "display_name": "Python 3",
   "language": "python",
   "name": "python3"
  },
  "language_info": {
   "codemirror_mode": {
    "name": "ipython",
    "version": 3
   },
   "file_extension": ".py",
   "mimetype": "text/x-python",
   "name": "python",
   "nbconvert_exporter": "python",
   "pygments_lexer": "ipython3",
   "version": "3.6.6"
  }
 },
 "nbformat": 4,
 "nbformat_minor": 2
}
